{
  "nbformat": 4,
  "nbformat_minor": 0,
  "metadata": {
    "colab": {
      "provenance": [],
      "authorship_tag": "ABX9TyPMOg4Cb4XFY3a/Tw5tjMGU",
      "include_colab_link": true
    },
    "kernelspec": {
      "name": "python3",
      "display_name": "Python 3"
    },
    "language_info": {
      "name": "python"
    }
  },
  "cells": [
    {
      "cell_type": "markdown",
      "metadata": {
        "id": "view-in-github",
        "colab_type": "text"
      },
      "source": [
        "<a href=\"https://colab.research.google.com/github/Hilmahna/SMOTE-ENN/blob/main/SMOTE_ENN.ipynb\" target=\"_parent\"><img src=\"https://colab.research.google.com/assets/colab-badge.svg\" alt=\"Open In Colab\"/></a>"
      ]
    },
    {
      "cell_type": "code",
      "execution_count": null,
      "metadata": {
        "id": "UHhcEo3LesHV"
      },
      "outputs": [],
      "source": []
    },
    {
      "cell_type": "markdown",
      "source": [
        "## **SMOTE-ENN**"
      ],
      "metadata": {
        "id": "rVd5TraxMhhN"
      }
    },
    {
      "cell_type": "code",
      "source": [
        "X_training = X_train\n",
        "y_training = y_train"
      ],
      "metadata": {
        "id": "P9OPIgvsPS1J"
      },
      "execution_count": null,
      "outputs": []
    },
    {
      "cell_type": "code",
      "source": [
        "y_training.value_counts()"
      ],
      "metadata": {
        "colab": {
          "base_uri": "https://localhost:8080/"
        },
        "id": "EG8reYWk9sx6",
        "outputId": "ae157155-1899-4311-d135-1a247bc3e262"
      },
      "execution_count": null,
      "outputs": [
        {
          "output_type": "execute_result",
          "data": {
            "text/plain": [
              "1    1658\n",
              "2    1541\n",
              "0     710\n",
              "Name: Sentimen, dtype: int64"
            ]
          },
          "metadata": {},
          "execution_count": 30
        }
      ]
    },
    {
      "cell_type": "code",
      "source": [
        "pip install imblearn --user"
      ],
      "metadata": {
        "id": "nyZrzJzfMgjJ",
        "colab": {
          "base_uri": "https://localhost:8080/"
        },
        "outputId": "2929c149-eadd-4de4-c21f-5985664b9331"
      },
      "execution_count": null,
      "outputs": [
        {
          "output_type": "stream",
          "name": "stdout",
          "text": [
            "Collecting imblearn\n",
            "  Downloading imblearn-0.0-py2.py3-none-any.whl (1.9 kB)\n",
            "Requirement already satisfied: imbalanced-learn in /usr/local/lib/python3.10/dist-packages (from imblearn) (0.10.1)\n",
            "Requirement already satisfied: numpy>=1.17.3 in /usr/local/lib/python3.10/dist-packages (from imbalanced-learn->imblearn) (1.23.5)\n",
            "Requirement already satisfied: scipy>=1.3.2 in /usr/local/lib/python3.10/dist-packages (from imbalanced-learn->imblearn) (1.11.4)\n",
            "Requirement already satisfied: scikit-learn>=1.0.2 in /usr/local/lib/python3.10/dist-packages (from imbalanced-learn->imblearn) (1.2.2)\n",
            "Requirement already satisfied: joblib>=1.1.1 in /usr/local/lib/python3.10/dist-packages (from imbalanced-learn->imblearn) (1.3.2)\n",
            "Requirement already satisfied: threadpoolctl>=2.0.0 in /usr/local/lib/python3.10/dist-packages (from imbalanced-learn->imblearn) (3.2.0)\n",
            "Installing collected packages: imblearn\n",
            "Successfully installed imblearn-0.0\n"
          ]
        }
      ]
    },
    {
      "cell_type": "code",
      "source": [
        "from imblearn.combine import SMOTEENN\n",
        "from sklearn.feature_extraction.text import CountVectorizer, TfidfVectorizer\n",
        "from sklearn import preprocessing\n",
        "from collections import Counter\n",
        "from matplotlib import pyplot\n",
        "\n",
        "over_sample = SMOTEENN(sampling_strategy='auto')\n",
        "le = preprocessing.LabelEncoder()\n",
        "Y_training = le.fit_transform(y_training)\n",
        "\n",
        "print(f\"Initial set observations {X_training.shape[0]}\")\n",
        "print(f\"Initial set target classes {len(set(Y_training))}\")\n",
        "print('dataset shape {}'.format(Counter(Y_training)))"
      ],
      "metadata": {
        "id": "Q6hDsyRaM0FJ",
        "colab": {
          "base_uri": "https://localhost:8080/"
        },
        "outputId": "73f9b4d7-ebaa-4c76-b06a-094f800c99e6"
      },
      "execution_count": null,
      "outputs": [
        {
          "output_type": "stream",
          "name": "stdout",
          "text": [
            "Initial set observations 3909\n",
            "Initial set target classes 3\n",
            "dataset shape Counter({1: 1658, 2: 1541, 0: 710})\n"
          ]
        }
      ]
    },
    {
      "cell_type": "code",
      "source": [
        "from collections import Counter\n",
        "from matplotlib import pyplot\n",
        "counter = Counter(Y_training)\n",
        "pyplot.bar(counter.keys(), counter.values())\n",
        "pyplot.show()"
      ],
      "metadata": {
        "colab": {
          "base_uri": "https://localhost:8080/",
          "height": 430
        },
        "id": "gPI6nwPsOa07",
        "outputId": "c045790a-be47-4749-b8a2-2c3e942f70ac"
      },
      "execution_count": null,
      "outputs": [
        {
          "output_type": "display_data",
          "data": {
            "text/plain": [
              "<Figure size 640x480 with 1 Axes>"
            ],
            "image/png": "[encoded data removed]"
          },
          "metadata": {}
        }
      ]
    },
    {
      "cell_type": "code",
      "source": [
        "X_training, Y_training = over_sample.fit_resample(X_training, Y_training)                       # jika error berarti rasio antar kelas sudah seimbang\n",
        "\n",
        "\n",
        "print(f\"Modified set observations {X_training.shape[0]}\")\n",
        "print(f\"Modified set target classes {len(set(Y_training))}\")\n",
        "print('Resample data {}'.format(Counter(Y_training)))"
      ],
      "metadata": {
        "id": "jEIc0eJ6NQqd",
        "colab": {
          "base_uri": "https://localhost:8080/"
        },
        "outputId": "d4b0d919-6091-4dcc-cfd5-17859160a230"
      },
      "execution_count": null,
      "outputs": [
        {
          "output_type": "stream",
          "name": "stdout",
          "text": [
            "Modified set observations 2877\n",
            "Modified set target classes 3\n",
            "Resample data Counter({0: 959, 1: 959, 2: 959})\n"
          ]
        }
      ]
    },
    {
      "cell_type": "code",
      "source": [
        "X_smoteenn= np.array(X_training)       # jadikan X.todense() jika error\n",
        "X_smoteenn"
      ],
      "metadata": {
        "id": "vuM25ewwNqxM",
        "colab": {
          "base_uri": "https://localhost:8080/"
        },
        "outputId": "6effc5f7-7997-46c4-c70c-78e702331f80"
      },
      "execution_count": null,
      "outputs": [
        {
          "output_type": "execute_result",
          "data": {
            "text/plain": [
              "array([[0., 0., 0., ..., 0., 0., 0.],\n",
              "       [0., 0., 0., ..., 0., 0., 0.],\n",
              "       [0., 0., 0., ..., 0., 0., 0.],\n",
              "       ...,\n",
              "       [0., 0., 0., ..., 0., 0., 0.],\n",
              "       [0., 0., 0., ..., 0., 0., 0.],\n",
              "       [0., 0., 0., ..., 0., 0., 0.]])"
            ]
          },
          "metadata": {},
          "execution_count": 41
        }
      ]
    },
    {
      "cell_type": "code",
      "source": [
        "Y_smoteenn = np.array(Y_training)\n",
        "Y_smoteenn"
      ],
      "metadata": {
        "id": "h2Kumc-vNlQb",
        "colab": {
          "base_uri": "https://localhost:8080/"
        },
        "outputId": "b084f41c-5644-4852-e7f9-8083b233412d"
      },
      "execution_count": null,
      "outputs": [
        {
          "output_type": "execute_result",
          "data": {
            "text/plain": [
              "array([0, 0, 0, ..., 2, 2, 2])"
            ]
          },
          "metadata": {},
          "execution_count": 42
        }
      ]
    },
    {
      "cell_type": "code",
      "source": [
        "from collections import Counter\n",
        "from matplotlib import pyplot\n",
        "counter = Counter(Y_smoteenn)\n",
        "pyplot.bar(counter.keys(), counter.values())\n",
        "pyplot.show()"
      ],
      "metadata": {
        "id": "LMPShknfEJk2",
        "colab": {
          "base_uri": "https://localhost:8080/",
          "height": 433
        },
        "outputId": "5b21135e-78f3-486d-fcae-85f48860ea39"
      },
      "execution_count": null,
      "outputs": [
        {
          "output_type": "display_data",
          "data": {
            "text/plain": [
              "<Figure size 640x480 with 1 Axes>"
            ],
            "image/png": "[encoded data removed]"
          },
          "metadata": {}
        }
      ]
    }
  ]
}